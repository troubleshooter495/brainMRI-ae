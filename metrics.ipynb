{
 "cells": [
  {
   "cell_type": "markdown",
   "metadata": {},
   "source": [
    "# init"
   ]
  },
  {
   "cell_type": "code",
   "execution_count": 69,
   "metadata": {},
   "outputs": [],
   "source": [
    "import torch\n",
    "from torch import nn\n",
    "from torch.utils.data import DataLoader, TensorDataset\n",
    "from torch import optim\n",
    "import torch.nn.functional as F\n",
    "\n",
    "from tqdm.notebook import tqdm\n",
    "from IPython.display import clear_output\n",
    "from matplotlib import pyplot as plt\n",
    "import random\n",
    "\n",
    "import matplotlib.pyplot as plt\n",
    "import numpy as np\n",
    "import nibabel as nib\n",
    "from nilearn import plotting\n",
    "from torchsummary import summary\n",
    "from torch.utils.data.dataset import random_split\n",
    "from sklearn.linear_model import LogisticRegression\n",
    "from sklearn.ensemble import RandomForestClassifier\n",
    "from sklearn.model_selection import KFold\n",
    "from sklearn.metrics import accuracy_score\n",
    "from torchvision import transforms\n",
    "from collections import Counter\n",
    "import os\n",
    "\n",
    "import pandas as pd\n",
    "import scipy\n",
    "from scipy import stats\n",
    "from sklearn.preprocessing import MinMaxScaler\n",
    "\n",
    "import warnings\n",
    "warnings.filterwarnings(\"ignore\")"
   ]
  },
  {
   "cell_type": "code",
   "execution_count": 4,
   "metadata": {},
   "outputs": [
    {
     "name": "stdout",
     "output_type": "stream",
     "text": [
      "Torch version: 1.11.0+cu113\n",
      "Using GPU\n"
     ]
    }
   ],
   "source": [
    "use_cuda = torch.cuda.is_available()\n",
    "\n",
    "print(\"Torch version:\", torch.__version__)\n",
    "if use_cuda:\n",
    "    print(\"Using GPU\")\n",
    "else:\n",
    "    print(\"Not using GPU\")\n",
    "\n",
    "device = 0"
   ]
  },
  {
   "cell_type": "code",
   "execution_count": 3,
   "metadata": {},
   "outputs": [
    {
     "name": "stdout",
     "output_type": "stream",
     "text": [
      "total    : 23836098560\n",
      "free     : 5655101440\n",
      "used     : 18180997120\n"
     ]
    }
   ],
   "source": [
    "from pynvml import *\n",
    "nvmlInit()\n",
    "h = nvmlDeviceGetHandleByIndex(0)\n",
    "info = nvmlDeviceGetMemoryInfo(h)\n",
    "print(f'total    : {info.total}')\n",
    "print(f'free     : {info.free}')\n",
    "print(f'used     : {info.used}')"
   ]
  },
  {
   "cell_type": "code",
   "execution_count": 10,
   "metadata": {},
   "outputs": [
    {
     "data": {
      "text/plain": [
       "((1113,), (1113, 48, 58, 43))"
      ]
     },
     "execution_count": 10,
     "metadata": {},
     "output_type": "execute_result"
    }
   ],
   "source": [
    "labels = np.load(\"data/labels.npy\")\n",
    "tensors = np.load(\"data/tensors.npy\")\n",
    "\n",
    "tensors = tensors[:, 5:-5, 7:-5, 4:-11]\n",
    "labels.shape, tensors.shape"
   ]
  },
  {
   "cell_type": "markdown",
   "metadata": {},
   "source": [
    "# models"
   ]
  },
  {
   "cell_type": "code",
   "execution_count": 11,
   "metadata": {},
   "outputs": [],
   "source": [
    "class AE3b16_32ch32f(nn.Module):\n",
    "    def __init__(self):\n",
    "        super().__init__()\n",
    "        \n",
    "        # encoder:\n",
    "        \n",
    "        self.block1 = nn.Sequential(\n",
    "                nn.Conv3d(1, 16, 3, 1, 1), \n",
    "                nn.ReLU(),\n",
    "                nn.BatchNorm3d(16),\n",
    "                nn.Conv3d(16, 16, 3, 1, 1), \n",
    "                nn.ReLU(),\n",
    "                nn.BatchNorm3d(16))\n",
    "\n",
    "        self.block2 = nn.Sequential(\n",
    "                nn.Conv3d(16, 32, 3, 1, 1), \n",
    "                nn.ReLU(),\n",
    "                nn.BatchNorm3d(32),\n",
    "                nn.Conv3d(32, 32, 3, 1, 1), \n",
    "                nn.ReLU(),\n",
    "                nn.BatchNorm3d(32))\n",
    "        \n",
    "        self.block3 = nn.Sequential(\n",
    "                nn.Conv3d(32, 32, 3, 1, 1), \n",
    "                nn.ReLU(),\n",
    "                nn.BatchNorm3d(32),\n",
    "                nn.Conv3d(32, 32, 3, 1, 1), \n",
    "                nn.ReLU(),\n",
    "                nn.BatchNorm3d(32))\n",
    "        \n",
    "        self.pool1 = nn.MaxPool3d(2, 2, return_indices=True)\n",
    "        self.pool2 = nn.MaxPool3d(2, 2, return_indices=True)\n",
    "        self.pool3 = nn.MaxPool3d(2, 2, return_indices=True)\n",
    "        \n",
    "        self.feat = nn.Sequential(\n",
    "                nn.Conv3d(32, 32, 3, 1, 1), \n",
    "                nn.ReLU(),\n",
    "                nn.Conv3d(32, 32, 3, 1, 1),\n",
    "                nn.Flatten())\n",
    "        \n",
    "        # decoder:\n",
    "        \n",
    "        self.unflat = nn.Unflatten(1, [32, 6, 7, 5])\n",
    "        self.deblock1 = nn.Sequential(\n",
    "                nn.ConvTranspose3d(32, 32, 3, 1, 1), \n",
    "                nn.ReLU(),\n",
    "                nn.BatchNorm3d(32),\n",
    "                nn.ConvTranspose3d(32, 32, 3, 1, 1), \n",
    "                nn.ReLU(),\n",
    "                nn.BatchNorm3d(32))\n",
    "        \n",
    "        self.deblock2 = nn.Sequential(\n",
    "                nn.ConvTranspose3d(32, 32, 3, 1, 1), \n",
    "                nn.ReLU(),\n",
    "                nn.BatchNorm3d(32),\n",
    "                nn.ConvTranspose3d(32, 32, 3, 1, 1), \n",
    "                nn.ReLU(),\n",
    "                nn.BatchNorm3d(32))\n",
    "        \n",
    "        self.deblock3 = nn.Sequential(\n",
    "                nn.ConvTranspose3d(32, 16, 3, 1, 1), \n",
    "                nn.ReLU(),\n",
    "                nn.BatchNorm3d(16),\n",
    "                nn.ConvTranspose3d(16, 16, 3, 1, 1), \n",
    "                nn.ReLU(),\n",
    "                nn.BatchNorm3d(16))\n",
    "        \n",
    "        self.unpool1 = nn.MaxUnpool3d(2, 2)\n",
    "        self.unpool2 = nn.MaxUnpool3d(2, 2)\n",
    "        self.unpool3 = nn.MaxUnpool3d(2, 2)\n",
    "        \n",
    "        self.reconstruct = nn.Sequential(\n",
    "                nn.ConvTranspose3d(16, 16, 3, 1, 1),\n",
    "                nn.ReLU(),\n",
    "                nn.ConvTranspose3d(16, 1, 3, 1, 1))\n",
    "        \n",
    "        \n",
    "    def encode(self, x):\n",
    "        self.shape1 = x.shape\n",
    "        x = self.block1(x)\n",
    "        x, self.ind1 = self.pool1(x)\n",
    "        \n",
    "        self.shape2 = x.shape\n",
    "        x = self.block2(x)\n",
    "        x, self.ind2 = self.pool2(x)\n",
    "        \n",
    "        self.shape3 = x.shape\n",
    "        x = self.block3(x)\n",
    "        x, self.ind3 = self.pool3(x)\n",
    "        \n",
    "        x = self.feat(x)\n",
    "        return x\n",
    "    \n",
    "    def decode(self, x):\n",
    "        x = self.unflat(x)\n",
    "        \n",
    "        x = self.deblock1(x)\n",
    "        x = self.unpool1(x, self.ind3, self.shape3)\n",
    "        \n",
    "        x = self.deblock2(x)\n",
    "        x = self.unpool2(x, self.ind2, self.shape2)\n",
    "        \n",
    "        x = self.deblock3(x)\n",
    "        x = self.unpool3(x, self.ind1, self.shape1)\n",
    "        \n",
    "        x = self.reconstruct(x)\n",
    "        return x\n",
    "    \n",
    "        \n",
    "    def forward(self, x):\n",
    "        x = self.encode(x)\n",
    "        x = self.decode(x)\n",
    "        return x"
   ]
  },
  {
   "cell_type": "code",
   "execution_count": 12,
   "metadata": {},
   "outputs": [],
   "source": [
    "class AE3b32ch16f(nn.Module):\n",
    "    def __init__(self):\n",
    "        super().__init__()\n",
    "        \n",
    "        # encoder:\n",
    "        \n",
    "        self.block1 = nn.Sequential(\n",
    "                nn.Conv3d(1, 32, 3, 1, 1), \n",
    "                nn.ReLU(),\n",
    "                nn.BatchNorm3d(32),\n",
    "                nn.Conv3d(32, 32, 3, 1, 1), \n",
    "                nn.ReLU(),\n",
    "                nn.BatchNorm3d(32))\n",
    "\n",
    "        self.block2 = nn.Sequential(\n",
    "                nn.Conv3d(32, 32, 3, 1, 1), \n",
    "                nn.ReLU(),\n",
    "                nn.BatchNorm3d(32),\n",
    "                nn.Conv3d(32, 32, 3, 1, 1), \n",
    "                nn.ReLU(),\n",
    "                nn.BatchNorm3d(32))\n",
    "        \n",
    "        self.block3 = nn.Sequential(\n",
    "                nn.Conv3d(32, 32, 3, 1, 1), \n",
    "                nn.ReLU(),\n",
    "                nn.BatchNorm3d(32),\n",
    "                nn.Conv3d(32, 32, 3, 1, 1), \n",
    "                nn.ReLU(),\n",
    "                nn.BatchNorm3d(32))\n",
    "        \n",
    "        self.pool1 = nn.MaxPool3d(2, 2, return_indices=True)\n",
    "        self.pool2 = nn.MaxPool3d(2, 2, return_indices=True)\n",
    "        self.pool3 = nn.MaxPool3d(2, 2, return_indices=True)\n",
    "        \n",
    "        self.feat = nn.Sequential(\n",
    "                nn.Conv3d(32, 16, 3, 1, 1), \n",
    "                nn.ReLU(),\n",
    "                nn.Conv3d(16, 16, 3, 1, 1),\n",
    "                nn.Flatten())\n",
    "        \n",
    "        # decoder:\n",
    "        \n",
    "        self.unflat = nn.Unflatten(1, [16, 6, 7, 5])\n",
    "        self.deblock1 = nn.Sequential(\n",
    "                nn.ConvTranspose3d(16, 32, 3, 1, 1), \n",
    "                nn.ReLU(),\n",
    "                nn.BatchNorm3d(32),\n",
    "                nn.ConvTranspose3d(32, 32, 3, 1, 1), \n",
    "                nn.ReLU(),\n",
    "                nn.BatchNorm3d(32))\n",
    "        \n",
    "        self.deblock2 = nn.Sequential(\n",
    "                nn.ConvTranspose3d(32, 32, 3, 1, 1), \n",
    "                nn.ReLU(),\n",
    "                nn.BatchNorm3d(32),\n",
    "                nn.ConvTranspose3d(32, 32, 3, 1, 1), \n",
    "                nn.ReLU(),\n",
    "                nn.BatchNorm3d(32))\n",
    "        \n",
    "        self.deblock3 = nn.Sequential(\n",
    "                nn.ConvTranspose3d(32, 32, 3, 1, 1), \n",
    "                nn.ReLU(),\n",
    "                nn.BatchNorm3d(32),\n",
    "                nn.ConvTranspose3d(32, 32, 3, 1, 1), \n",
    "                nn.ReLU(),\n",
    "                nn.BatchNorm3d(32))\n",
    "        \n",
    "        self.unpool1 = nn.MaxUnpool3d(2, 2)\n",
    "        self.unpool2 = nn.MaxUnpool3d(2, 2)\n",
    "        self.unpool3 = nn.MaxUnpool3d(2, 2)\n",
    "        \n",
    "        self.reconstruct = nn.Sequential(\n",
    "                nn.ConvTranspose3d(32, 32, 3, 1, 1),\n",
    "                nn.ReLU(),\n",
    "                nn.ConvTranspose3d(32, 1, 3, 1, 1))\n",
    "        \n",
    "        \n",
    "    def encode(self, x):\n",
    "        self.shape1 = x.shape\n",
    "        x = self.block1(x)\n",
    "        x, self.ind1 = self.pool1(x)\n",
    "        \n",
    "        self.shape2 = x.shape\n",
    "        x = self.block2(x)\n",
    "        x, self.ind2 = self.pool2(x)\n",
    "        \n",
    "        self.shape3 = x.shape\n",
    "        x = self.block3(x)\n",
    "        x, self.ind3 = self.pool3(x)\n",
    "        \n",
    "        x = self.feat(x)\n",
    "        return x\n",
    "    \n",
    "    def decode(self, x):\n",
    "        x = self.unflat(x)\n",
    "        \n",
    "        x = self.deblock1(x)\n",
    "        x = self.unpool1(x, self.ind3, self.shape3)\n",
    "        \n",
    "        x = self.deblock2(x)\n",
    "        x = self.unpool2(x, self.ind2, self.shape2)\n",
    "        \n",
    "        x = self.deblock3(x)\n",
    "        x = self.unpool3(x, self.ind1, self.shape1)\n",
    "        \n",
    "        x = self.reconstruct(x)\n",
    "        return x\n",
    "    \n",
    "        \n",
    "    def forward(self, x):\n",
    "        x = self.encode(x)\n",
    "        x = self.decode(x)\n",
    "        return x"
   ]
  },
  {
   "cell_type": "code",
   "execution_count": 13,
   "metadata": {},
   "outputs": [],
   "source": [
    "class VAE3b32ch16f(nn.Module):\n",
    "    def __init__(self, latent_shape=3360):\n",
    "        super().__init__()\n",
    "        \n",
    "        # encoder:\n",
    "        \n",
    "        self.block1 = nn.Sequential(\n",
    "                nn.Conv3d(1, 32, 3, 1, 1), \n",
    "                nn.ReLU(),\n",
    "                nn.BatchNorm3d(32),\n",
    "                nn.Conv3d(32, 32, 3, 1, 1), \n",
    "                nn.ReLU(),\n",
    "                nn.BatchNorm3d(32))\n",
    "\n",
    "        self.block2 = nn.Sequential(\n",
    "                nn.Conv3d(32, 32, 3, 1, 1), \n",
    "                nn.ReLU(),\n",
    "                nn.BatchNorm3d(32),\n",
    "                nn.Conv3d(32, 32, 3, 1, 1), \n",
    "                nn.ReLU(),\n",
    "                nn.BatchNorm3d(32))\n",
    "        \n",
    "        self.block3 = nn.Sequential(\n",
    "                nn.Conv3d(32, 32, 3, 1, 1), \n",
    "                nn.ReLU(),\n",
    "                nn.BatchNorm3d(32),\n",
    "                nn.Conv3d(32, 32, 3, 1, 1), \n",
    "                nn.ReLU(),\n",
    "                nn.BatchNorm3d(32))\n",
    "        \n",
    "        self.pool1 = nn.MaxPool3d(2, 2, return_indices=True)\n",
    "        self.pool2 = nn.MaxPool3d(2, 2, return_indices=True)\n",
    "        self.pool3 = nn.MaxPool3d(2, 2, return_indices=True)\n",
    "        \n",
    "        self.feat = nn.Sequential(\n",
    "                nn.Conv3d(32, 16, 3, 1, 1), \n",
    "                nn.ReLU(),\n",
    "                nn.Conv3d(16, 16, 3, 1, 1),\n",
    "                nn.Flatten())\n",
    "\n",
    "        # distrib\n",
    "        \n",
    "        self.enc_mu = nn.Linear(3360, latent_shape)\n",
    "        self.enc_sig = nn.Linear(3360, latent_shape)\n",
    "        \n",
    "        # decoder:\n",
    "        \n",
    "        self.unflat = nn.Sequential(\n",
    "                nn.Linear(latent_shape, 3360),\n",
    "                nn.Unflatten(1, [16, 6, 7, 5]))\n",
    "        \n",
    "        self.deblock1 = nn.Sequential(\n",
    "                nn.ConvTranspose3d(16, 32, 3, 1, 1), \n",
    "                nn.ReLU(),\n",
    "                nn.BatchNorm3d(32),\n",
    "                nn.ConvTranspose3d(32, 32, 3, 1, 1), \n",
    "                nn.ReLU(),\n",
    "                nn.BatchNorm3d(32))\n",
    "        \n",
    "        self.deblock2 = nn.Sequential(\n",
    "                nn.ConvTranspose3d(32, 32, 3, 1, 1), \n",
    "                nn.ReLU(),\n",
    "                nn.BatchNorm3d(32),\n",
    "                nn.ConvTranspose3d(32, 32, 3, 1, 1), \n",
    "                nn.ReLU(),\n",
    "                nn.BatchNorm3d(32))\n",
    "        \n",
    "        self.deblock3 = nn.Sequential(\n",
    "                nn.ConvTranspose3d(32, 32, 3, 1, 1), \n",
    "                nn.ReLU(),\n",
    "                nn.BatchNorm3d(32),\n",
    "                nn.ConvTranspose3d(32, 32, 3, 1, 1), \n",
    "                nn.ReLU(),\n",
    "                nn.BatchNorm3d(32))\n",
    "        \n",
    "        self.unpool1 = nn.MaxUnpool3d(2, 2)\n",
    "        self.unpool2 = nn.MaxUnpool3d(2, 2)\n",
    "        self.unpool3 = nn.MaxUnpool3d(2, 2)\n",
    "        \n",
    "        self.reconstruct = nn.Sequential(\n",
    "                nn.ConvTranspose3d(32, 32, 3, 1, 1),\n",
    "                nn.ReLU(),\n",
    "                nn.ConvTranspose3d(32, 1, 3, 1, 1))\n",
    "        \n",
    "        \n",
    "    def encode(self, x):\n",
    "        self.shape1 = x.shape\n",
    "        x = self.block1(x)\n",
    "        x, self.ind1 = self.pool1(x)\n",
    "        \n",
    "        self.shape2 = x.shape\n",
    "        x = self.block2(x)\n",
    "        x, self.ind2 = self.pool2(x)\n",
    "        \n",
    "        self.shape3 = x.shape\n",
    "        x = self.block3(x)\n",
    "        x, self.ind3 = self.pool3(x)\n",
    "        \n",
    "        x = self.feat(x)\n",
    "        mu, sig = self.enc_mu(x), self.enc_sig(x)\n",
    "        return mu, sig\n",
    "    \n",
    "    def decode(self, mu, sig):\n",
    "        # temp block\n",
    "#         std = torch.exp(sig / 2)\n",
    "#         q = torch.distributions.Normal(mu, std)\n",
    "#         x = q.rsample()\n",
    "        # temp block\n",
    "        epsilon = torch.randn(mu.shape).to(device=device)\n",
    "        x = mu + epsilon * sig\n",
    "        \n",
    "        x = self.unflat(x)\n",
    "        \n",
    "        x = self.deblock1(x)\n",
    "        x = self.unpool1(x, self.ind3, self.shape3)\n",
    "        \n",
    "        x = self.deblock2(x)\n",
    "        x = self.unpool2(x, self.ind2, self.shape2)\n",
    "        \n",
    "        x = self.deblock3(x)\n",
    "        x = self.unpool3(x, self.ind1, self.shape1)\n",
    "        \n",
    "        x = self.reconstruct(x)\n",
    "        return x\n",
    "    \n",
    "        \n",
    "    def forward(self, x):\n",
    "        mu, sig = self.encode(x)\n",
    "        x = self.decode(mu, sig)\n",
    "        return mu, sig, x"
   ]
  },
  {
   "cell_type": "markdown",
   "metadata": {},
   "source": [
    "# classification accuracy"
   ]
  },
  {
   "cell_type": "code",
   "execution_count": 8,
   "metadata": {},
   "outputs": [],
   "source": [
    "def classification_accuracy(data, labels, model, vae=False):\n",
    "    with torch.no_grad():\n",
    "        model.eval()\n",
    "        vectors = model.encode(torch.Tensor(data[:, None]))\n",
    "        if vae:\n",
    "            eps = torch.randn(vectors[0].shape)\n",
    "            vectors = vectors[0].cpu() + eps * vectors[1].cpu()\n",
    "        \n",
    "    cv = KFold(n_splits=5)\n",
    "    accs1 = []\n",
    "    accs2 = []\n",
    "\n",
    "    for tr_i, te_i in tqdm(cv.split(vectors)):\n",
    "        regr = LogisticRegression(max_iter=500, ).fit(vectors[tr_i], labels[tr_i])\n",
    "        rfor = RandomForestClassifier(n_estimators=300, n_jobs=-1, ).fit(vectors[tr_i], labels[tr_i])\n",
    "        pred = regr.predict(vectors[te_i])\n",
    "        accs1.append(accuracy_score(labels[te_i], pred))\n",
    "        pred = rfor.predict(vectors[te_i])\n",
    "        accs2.append(accuracy_score(labels[te_i], pred))\n",
    "    \n",
    "    return accs1, accs2, vectors"
   ]
  },
  {
   "cell_type": "code",
   "execution_count": 10,
   "metadata": {},
   "outputs": [],
   "source": [
    "# ae_exp1_norm_crit/full_16-32x32_crit_46\n",
    "\n",
    "# ae_exp2/full_32x16_crit_40"
   ]
  },
  {
   "cell_type": "markdown",
   "metadata": {},
   "source": [
    "### AE3b16-32ch32f"
   ]
  },
  {
   "cell_type": "code",
   "execution_count": 38,
   "metadata": {},
   "outputs": [
    {
     "data": {
      "application/vnd.jupyter.widget-view+json": {
       "model_id": "00a208a8efdb478aaee766a6b17e8293",
       "version_major": 2,
       "version_minor": 0
      },
      "text/plain": [
       "HBox(children=(HTML(value=''), FloatProgress(value=1.0, bar_style='info', layout=Layout(width='20px'), max=1.0…"
      ]
     },
     "metadata": {},
     "output_type": "display_data"
    },
    {
     "name": "stdout",
     "output_type": "stream",
     "text": [
      "\n"
     ]
    }
   ],
   "source": [
    "model = AE3b16_32ch32f()\n",
    "model.load_state_dict(torch.load(\"saves/ae_exp1_norm_crit/full_16-32x32_crit_46\", map_location='cpu'))\n",
    "model.eval()\n",
    "\n",
    "accs1, accs2, mod3vectors = classification_accuracy(torch.Tensor(tensors), labels, model)"
   ]
  },
  {
   "cell_type": "code",
   "execution_count": 40,
   "metadata": {},
   "outputs": [
    {
     "name": "stdout",
     "output_type": "stream",
     "text": [
      "logreg:\n",
      "   mean = 0.9092231244697612\n",
      "   cv:\n",
      "[0.9103139013452914, 0.9192825112107623, 0.9327354260089686, 0.9099099099099099, 0.8738738738738738]\n",
      "random forest:\n",
      "   mean = 0.890376924009211\n",
      "   cv:\n",
      "[0.8968609865470852, 0.8923766816143498, 0.8923766816143498, 0.8918918918918919, 0.8783783783783784]\n"
     ]
    }
   ],
   "source": [
    "print(f'logreg:\\n   mean = {np.mean(accs1)}\\n   cv:\\n{accs1}')\n",
    "print(f'random forest:\\n   mean = {np.mean(accs2)}\\n   cv:\\n{accs2}')"
   ]
  },
  {
   "cell_type": "markdown",
   "metadata": {},
   "source": [
    "### AE3b32ch16f"
   ]
  },
  {
   "cell_type": "code",
   "execution_count": 47,
   "metadata": {},
   "outputs": [
    {
     "data": {
      "application/vnd.jupyter.widget-view+json": {
       "model_id": "2bdcbf5c5ecc48b5ba2f80f4a3399eb7",
       "version_major": 2,
       "version_minor": 0
      },
      "text/plain": [
       "HBox(children=(HTML(value=''), FloatProgress(value=1.0, bar_style='info', layout=Layout(width='20px'), max=1.0…"
      ]
     },
     "metadata": {},
     "output_type": "display_data"
    },
    {
     "name": "stdout",
     "output_type": "stream",
     "text": [
      "\n"
     ]
    }
   ],
   "source": [
    "model = AE3b32ch16f()\n",
    "model.load_state_dict(torch.load(\"saves/ae_exp2/full_32x16_crit_40\", map_location='cpu'))\n",
    "model.eval()\n",
    "\n",
    "accs1, accs2, mod3vectors = classification_accuracy(torch.Tensor(tensors), labels, model)"
   ]
  },
  {
   "cell_type": "code",
   "execution_count": 48,
   "metadata": {},
   "outputs": [
    {
     "name": "stdout",
     "output_type": "stream",
     "text": [
      "logreg:\n",
      "   mean = 0.902015917262554\n",
      "   cv:\n",
      "[0.9192825112107623, 0.905829596412556, 0.9372197309417041, 0.8603603603603603, 0.8873873873873874]\n",
      "random forest:\n",
      "   mean = 0.8957621298428473\n",
      "   cv:\n",
      "[0.8968609865470852, 0.8968609865470852, 0.9103139013452914, 0.9054054054054054, 0.8693693693693694]\n"
     ]
    }
   ],
   "source": [
    "print(f'logreg:\\n   mean = {np.mean(accs1)}\\n   cv:\\n{accs1}')\n",
    "print(f'random forest:\\n   mean = {np.mean(accs2)}\\n   cv:\\n{accs2}')"
   ]
  },
  {
   "cell_type": "markdown",
   "metadata": {},
   "source": [
    "### VAE3b32ch16f"
   ]
  },
  {
   "cell_type": "code",
   "execution_count": 27,
   "metadata": {},
   "outputs": [
    {
     "data": {
      "application/vnd.jupyter.widget-view+json": {
       "model_id": "358ba56949f24f65addc2d359795b5a4",
       "version_major": 2,
       "version_minor": 0
      },
      "text/plain": [
       "HBox(children=(HTML(value=''), FloatProgress(value=1.0, bar_style='info', layout=Layout(width='20px'), max=1.0…"
      ]
     },
     "metadata": {},
     "output_type": "display_data"
    },
    {
     "name": "stdout",
     "output_type": "stream",
     "text": [
      "\n"
     ]
    }
   ],
   "source": [
    "model = VAE3b32ch16f()\n",
    "model.load_state_dict(torch.load(\"vae_exp1/vae3b32ch16f_crit_46\", map_location='cpu'))\n",
    "model.eval()\n",
    "\n",
    "accs1, accs2 = classification_accuracy(tensors, labels, model, vae=True)"
   ]
  },
  {
   "cell_type": "code",
   "execution_count": 29,
   "metadata": {},
   "outputs": [
    {
     "name": "stdout",
     "output_type": "stream",
     "text": [
      "logreg:\n",
      "   mean = 0.7358259604896377\n",
      "   cv:\n",
      "[0.7757847533632287, 0.7174887892376681, 0.7399103139013453, 0.7432432432432432, 0.7027027027027027]\n",
      "random forest:\n",
      "   mean = 0.6118571486284491\n",
      "   cv:\n",
      "[0.6547085201793722, 0.57847533632287, 0.6053811659192825, 0.6261261261261262, 0.5945945945945946]\n"
     ]
    }
   ],
   "source": [
    "print(f'logreg:\\n   mean = {np.mean(accs1)}\\n   cv:\\n{accs1}')\n",
    "print(f'random forest:\\n   mean = {np.mean(accs2)}\\n   cv:\\n{accs2}')"
   ]
  },
  {
   "cell_type": "markdown",
   "metadata": {},
   "source": [
    "### VAE3b32ch16f - normalized data"
   ]
  },
  {
   "cell_type": "code",
   "execution_count": 14,
   "metadata": {},
   "outputs": [
    {
     "data": {
      "application/vnd.jupyter.widget-view+json": {
       "model_id": "2a32868e4faf4da98a355f3a237f7dd2",
       "version_major": 2,
       "version_minor": 0
      },
      "text/plain": [
       "HBox(children=(HTML(value=''), FloatProgress(value=1.0, bar_style='info', layout=Layout(width='20px'), max=1.0…"
      ]
     },
     "metadata": {},
     "output_type": "display_data"
    },
    {
     "name": "stdout",
     "output_type": "stream",
     "text": [
      "\n"
     ]
    }
   ],
   "source": [
    "model = VAE3b32ch16f()\n",
    "model.load_state_dict(torch.load(\"vae_exp3/vae3b32ch16f_crit_32\", map_location='cpu'))\n",
    "model.eval()\n",
    "norm = transforms.Normalize(mean=267.57535, std=350.7396)\n",
    "\n",
    "accs = classification_accuracy(norm(torch.Tensor(tensors)), labels, model, vae=True)"
   ]
  },
  {
   "cell_type": "code",
   "execution_count": 15,
   "metadata": {},
   "outputs": [
    {
     "data": {
      "text/plain": [
       "(0.4995273300206035,\n",
       " [0.5067264573991032,\n",
       "  0.5201793721973094,\n",
       "  0.4977578475336323,\n",
       "  0.5,\n",
       "  0.47297297297297297])"
      ]
     },
     "execution_count": 15,
     "metadata": {},
     "output_type": "execute_result"
    }
   ],
   "source": [
    "np.mean(accs), accs"
   ]
  },
  {
   "cell_type": "markdown",
   "metadata": {},
   "source": [
    "### VAE3b32ch16f - with hyperparams"
   ]
  },
  {
   "cell_type": "code",
   "execution_count": 15,
   "metadata": {},
   "outputs": [
    {
     "data": {
      "application/vnd.jupyter.widget-view+json": {
       "model_id": "0282f2da92394c0c98d9c2da3c81c1cf",
       "version_major": 2,
       "version_minor": 0
      },
      "text/plain": [
       "HBox(children=(HTML(value=''), FloatProgress(value=1.0, bar_style='info', layout=Layout(width='20px'), max=1.0…"
      ]
     },
     "metadata": {},
     "output_type": "display_data"
    },
    {
     "name": "stdout",
     "output_type": "stream",
     "text": [
      "\n"
     ]
    }
   ],
   "source": [
    "model = VAE3b32ch16f()\n",
    "model.load_state_dict(torch.load(\"saves/vae_exp4/vae3b32ch16f_crit_87\", map_location='cpu'))\n",
    "model.eval()\n",
    "norm = transforms.Normalize(mean=267.57535, std=350.7396)\n",
    "\n",
    "accs1, accs2, mod1vectors = classification_accuracy(norm(torch.Tensor(tensors)), labels, model, vae=True)"
   ]
  },
  {
   "cell_type": "code",
   "execution_count": 16,
   "metadata": {},
   "outputs": [
    {
     "name": "stdout",
     "output_type": "stream",
     "text": [
      "logreg:\n",
      "   mean = 0.5264654789318466\n",
      "   cv:\n",
      "[0.5336322869955157, 0.5829596412556054, 0.5067264573991032, 0.5, 0.509009009009009]\n",
      "random forest:\n",
      "   mean = 0.5282834403910638\n",
      "   cv:\n",
      "[0.5426008968609866, 0.5515695067264574, 0.5112107623318386, 0.5180180180180181, 0.5180180180180181]\n"
     ]
    }
   ],
   "source": [
    "print(f'logreg:\\n   mean = {np.mean(accs1)}\\n   cv:\\n{accs1}')\n",
    "print(f'random forest:\\n   mean = {np.mean(accs2)}\\n   cv:\\n{accs2}')"
   ]
  },
  {
   "cell_type": "markdown",
   "metadata": {},
   "source": [
    "### AE3b32ch16f - normalized data"
   ]
  },
  {
   "cell_type": "code",
   "execution_count": 18,
   "metadata": {},
   "outputs": [
    {
     "data": {
      "application/vnd.jupyter.widget-view+json": {
       "model_id": "0c8dff7ae78945879bd52ce6b05d3713",
       "version_major": 2,
       "version_minor": 0
      },
      "text/plain": [
       "HBox(children=(HTML(value=''), FloatProgress(value=1.0, bar_style='info', layout=Layout(width='20px'), max=1.0…"
      ]
     },
     "metadata": {},
     "output_type": "display_data"
    },
    {
     "name": "stdout",
     "output_type": "stream",
     "text": [
      "\n"
     ]
    }
   ],
   "source": [
    "model = AE3b32ch16f()\n",
    "model.load_state_dict(torch.load(\"saves/ae_exp3.5norm/AE3b32ch32f_crit_41\", map_location='cpu'))\n",
    "model.eval()\n",
    "norm = transforms.Normalize(mean=267.57535, std=350.7396)\n",
    "\n",
    "accs1, accs2, mod2vectors = classification_accuracy(norm(torch.Tensor(tensors)), labels, model)"
   ]
  },
  {
   "cell_type": "code",
   "execution_count": 19,
   "metadata": {},
   "outputs": [
    {
     "name": "stdout",
     "output_type": "stream",
     "text": [
      "logreg:\n",
      "   mean = 0.9343837110653255\n",
      "   cv:\n",
      "[0.9372197309417041, 0.9327354260089686, 0.9641255605381166, 0.9234234234234234, 0.9144144144144144]\n",
      "random forest:\n",
      "   mean = 0.8930675069688523\n",
      "   cv:\n",
      "[0.8968609865470852, 0.8923766816143498, 0.905829596412556, 0.9009009009009009, 0.8693693693693694]\n"
     ]
    }
   ],
   "source": [
    "print(f'logreg:\\n   mean = {np.mean(accs1)}\\n   cv:\\n{accs1}')\n",
    "print(f'random forest:\\n   mean = {np.mean(accs2)}\\n   cv:\\n{accs2}')"
   ]
  },
  {
   "cell_type": "code",
   "execution_count": null,
   "metadata": {},
   "outputs": [],
   "source": []
  },
  {
   "cell_type": "code",
   "execution_count": null,
   "metadata": {},
   "outputs": [],
   "source": []
  },
  {
   "cell_type": "code",
   "execution_count": 52,
   "metadata": {},
   "outputs": [],
   "source": [
    "pvals = scipy.stats.ttest_ind(mod1vectors.T, mod2vectors.T, equal_var=False)"
   ]
  },
  {
   "cell_type": "code",
   "execution_count": 53,
   "metadata": {},
   "outputs": [
    {
     "name": "stdout",
     "output_type": "stream",
     "text": [
      "[5.0915815e-02 9.3560637e-04 5.7974835e-03 ... 8.3938605e-05 9.5290568e-04\n",
      " 5.0369922e-02]\n",
      "0.96233094\n",
      "0.022144146\n"
     ]
    }
   ],
   "source": [
    "print(pvals.pvalue, pvals.pvalue.max(), pvals.pvalue.mean(), sep='\\n')"
   ]
  },
  {
   "cell_type": "code",
   "execution_count": 54,
   "metadata": {},
   "outputs": [
    {
     "data": {
      "text/plain": [
       "[<matplotlib.lines.Line2D at 0x7f0392577580>]"
      ]
     },
     "execution_count": 54,
     "metadata": {},
     "output_type": "execute_result"
    },
    {
     "data": {
      "image/png": "[encoded data removed]",
      "text/plain": [
       "<Figure size 864x576 with 1 Axes>"
      ]
     },
     "metadata": {
      "needs_background": "light"
     },
     "output_type": "display_data"
    }
   ],
   "source": [
    "plt.figure(figsize=(12,8))\n",
    "plt.plot(pvals.pvalue)"
   ]
  },
  {
   "cell_type": "code",
   "execution_count": 51,
   "metadata": {},
   "outputs": [
    {
     "name": "stdout",
     "output_type": "stream",
     "text": [
      "[3.8717988e-14 8.9827195e-09 2.3609201e-12 ... 6.4014516e-13 6.3545490e-13\n",
      " 3.1635983e-10]\n",
      "0.73417395\n",
      "0.009860419\n"
     ]
    },
    {
     "data": {
      "text/plain": [
       "[<matplotlib.lines.Line2D at 0x7f039252d910>]"
      ]
     },
     "execution_count": 51,
     "metadata": {},
     "output_type": "execute_result"
    },
    {
     "data": {
      "image/png": "[encoded data removed]",
      "text/plain": [
       "<Figure size 864x576 with 1 Axes>"
      ]
     },
     "metadata": {
      "needs_background": "light"
     },
     "output_type": "display_data"
    }
   ],
   "source": [
    "pvals = scipy.stats.ttest_ind(mod3vectors.T, mod2vectors.T, equal_var=False)\n",
    "print(pvals.pvalue, pvals.pvalue.max(), pvals.pvalue.mean(), sep='\\n')\n",
    "plt.figure(figsize=(12,8))\n",
    "plt.plot(pvals.pvalue)"
   ]
  },
  {
   "cell_type": "code",
   "execution_count": 50,
   "metadata": {},
   "outputs": [
    {
     "data": {
      "text/plain": [
       "(torch.Size([1113, 3360]), torch.Size([1113, 3360]))"
      ]
     },
     "execution_count": 50,
     "metadata": {},
     "output_type": "execute_result"
    }
   ],
   "source": [
    "mod3vectors.shape, mod2vectors.shape"
   ]
  },
  {
   "cell_type": "markdown",
   "metadata": {},
   "source": [
    "# KL - train (failed)"
   ]
  },
  {
   "cell_type": "code",
   "execution_count": 12,
   "metadata": {},
   "outputs": [],
   "source": [
    "def create_stop_crit(buff):\n",
    "    \n",
    "    def stop_crit(loss):\n",
    "        if len(loss) < buff:\n",
    "            return False\n",
    "        return np.mean(loss[-buff:]) < loss[-1]\n",
    "    \n",
    "    return stop_crit"
   ]
  },
  {
   "cell_type": "code",
   "execution_count": 8,
   "metadata": {},
   "outputs": [],
   "source": [
    "def get_bars(arr):\n",
    "    n = 250\n",
    "    ret = np.zeros(n)\n",
    "    \n",
    "    for i in arr:\n",
    "        ret[i] += 1\n",
    "\n",
    "    return ret\n",
    "\n",
    "\n",
    "def KL_train(model, loader, valloader, optimizer, epochs=500, start_e=0, save_n=25,\n",
    "          stop=(lambda loss:  False), exp_name='undef_exp', folder='unsorted'):\n",
    "\n",
    "    recloss = []\n",
    "    vals = []\n",
    "    if folder not in os.listdir():\n",
    "        os.mkdir(folder)\n",
    "    for e in range(start_e, epochs):\n",
    "        running_loss = 0\n",
    "        model.train()\n",
    "        for i, (X, y) in tqdm(enumerate(loader)):\n",
    "            X = X.cuda()\n",
    "            y = y.cuda()\n",
    "            outs = model(X)\n",
    "            \n",
    "            with torch.no_grad():\n",
    "                Xvect = ((X.reshape(64, -1) + 0.7629) / (3.8590 + 0.7629) * 249).int()\n",
    "                bars_before = np.apply_along_axis(get_bars, 1, Xvect.cpu().numpy())\n",
    "                Xvect = ((outs.reshape(64, -1) + 0.7629) / (3.8590 + 0.7629) * 249).int()\n",
    "                bars_after = np.apply_along_axis(get_bars, 1, Xvect.cpu().numpy())\n",
    "            \n",
    "            loss = F.mse_loss(torch.Tensor(bars_before).cuda(), torch.Tensor(bars_after).cuda())\n",
    "            running_loss += loss\n",
    "\n",
    "            optimizer.zero_grad()\n",
    "            loss.backward()\n",
    "            optimizer.step()\n",
    "\n",
    "        recloss.append(running_loss.item() / len(loader))\n",
    "        \n",
    "        model.eval()\n",
    "        valloss = 0\n",
    "        with torch.no_grad():\n",
    "            for X, y in valloader:\n",
    "                X = X.cuda()\n",
    "                outs = model(X)\n",
    "                valloss += criterion(outs, X)\n",
    "\n",
    "        vals.append(valloss.item() / len(valloader))\n",
    "        \n",
    "        # visualize\n",
    "        clear_output(True)\n",
    "        print('Epoch', e)\n",
    "        print('Reconstruction Loss: ', recloss[-1])\n",
    "        print('Validation Loss: ', vals[-1])\n",
    "        fig, ax = plt.subplots(1, 2, figsize=(12, 6))\n",
    "        ax[0].plot(range(start_e, e + 1), recloss)\n",
    "        ax[1].plot(range(start_e, e + 1), vals)\n",
    "        ax[0].set_title('Reconstruction loss')\n",
    "        ax[1].set_title('Validation Loss')\n",
    "\n",
    "        t1 = nib.Nifti1Image(X[0][0].detach().cpu().numpy(), np.diag([1, 1, 1, 1]))\n",
    "        t2 = nib.Nifti1Image(outs[0][0].detach().cpu().numpy(), np.diag([1, 1, 1, 1]))\n",
    "        f = plt.figure(figsize=(10, 6))\n",
    "        ax = plt.subplot(2, 1, 1)\n",
    "        plotting.plot_img(t1, [s / 2 for s in t1.shape], title=\"Truth\", axes=ax)\n",
    "        ax = plt.subplot(2, 1, 2)\n",
    "        plotting.plot_img(t2, [s / 2 for s in t2.shape], title=\"Reconstructed\", axes=ax)\n",
    "        plt.show()\n",
    "\n",
    "        if e % save_n == 0:\n",
    "            torch.save(model.state_dict(), f'{folder + \"/\" + exp_name + \"_\"}{start_e + e}')\n",
    "\n",
    "        if stop(vals):\n",
    "            torch.save(model.state_dict(), f'{folder + \"/\" + exp_name + \"_crit_\"}{start_e + e}')\n",
    "            return"
   ]
  },
  {
   "cell_type": "markdown",
   "metadata": {},
   "source": [
    "### AE3b32ch16f"
   ]
  },
  {
   "cell_type": "code",
   "execution_count": 9,
   "metadata": {},
   "outputs": [
    {
     "data": {
      "text/plain": [
       "(267.57535, 350.7396)"
      ]
     },
     "execution_count": 9,
     "metadata": {},
     "output_type": "execute_result"
    }
   ],
   "source": [
    "tensors.mean(), tensors.std()"
   ]
  },
  {
   "cell_type": "code",
   "execution_count": 10,
   "metadata": {},
   "outputs": [],
   "source": [
    "norm = transforms.Normalize(mean=267.57535, std=350.7396)\n",
    "ds = TensorDataset(norm(torch.Tensor(tensors[:, None])), torch.Tensor(labels))"
   ]
  },
  {
   "cell_type": "code",
   "execution_count": 11,
   "metadata": {},
   "outputs": [
    {
     "data": {
      "application/vnd.jupyter.widget-view+json": {
       "model_id": "d48eceb8c40d47f68ab258179f0ac379",
       "version_major": 2,
       "version_minor": 0
      },
      "text/plain": [
       "HBox(children=(HTML(value=''), FloatProgress(value=1.0, bar_style='info', layout=Layout(width='20px'), max=1.0…"
      ]
     },
     "metadata": {},
     "output_type": "display_data"
    },
    {
     "name": "stderr",
     "output_type": "stream",
     "text": [
      "/home/kondrateva/miniconda3/lib/python3.9/site-packages/torch/nn/functional.py:847: UserWarning: Note that order of the arguments: ceil_mode and return_indices will changeto match the args list in nn.MaxPool3d in a future release.\n",
      "  warnings.warn(\"Note that order of the arguments: ceil_mode and return_indices will change\"\n"
     ]
    },
    {
     "name": "stdout",
     "output_type": "stream",
     "text": [
      "\n"
     ]
    },
    {
     "ename": "RuntimeError",
     "evalue": "element 0 of tensors does not require grad and does not have a grad_fn",
     "output_type": "error",
     "traceback": [
      "\u001b[0;31m---------------------------------------------------------------------------\u001b[0m",
      "\u001b[0;31mRuntimeError\u001b[0m                              Traceback (most recent call last)",
      "\u001b[0;32m/tmp/ipykernel_42308/2251563585.py\u001b[0m in \u001b[0;36m<module>\u001b[0;34m\u001b[0m\n\u001b[1;32m      7\u001b[0m \u001b[0mstop_crit\u001b[0m \u001b[0;34m=\u001b[0m \u001b[0mcreate_stop_crit\u001b[0m\u001b[0;34m(\u001b[0m\u001b[0mbuff\u001b[0m\u001b[0;34m=\u001b[0m\u001b[0;36m10\u001b[0m\u001b[0;34m)\u001b[0m\u001b[0;34m\u001b[0m\u001b[0;34m\u001b[0m\u001b[0m\n\u001b[1;32m      8\u001b[0m \u001b[0;34m\u001b[0m\u001b[0m\n\u001b[0;32m----> 9\u001b[0;31m KL_train(model, trainloader, valloader, optimizer, stop=stop_crit, start_e=0,\n\u001b[0m\u001b[1;32m     10\u001b[0m       exp_name='full_32x16', folder='metrics-KL')\n",
      "\u001b[0;32m/tmp/ipykernel_42308/932421726.py\u001b[0m in \u001b[0;36mKL_train\u001b[0;34m(model, loader, valloader, optimizer, epochs, start_e, save_n, stop, exp_name, folder)\u001b[0m\n\u001b[1;32m     34\u001b[0m \u001b[0;34m\u001b[0m\u001b[0m\n\u001b[1;32m     35\u001b[0m             \u001b[0moptimizer\u001b[0m\u001b[0;34m.\u001b[0m\u001b[0mzero_grad\u001b[0m\u001b[0;34m(\u001b[0m\u001b[0;34m)\u001b[0m\u001b[0;34m\u001b[0m\u001b[0;34m\u001b[0m\u001b[0m\n\u001b[0;32m---> 36\u001b[0;31m             \u001b[0mloss\u001b[0m\u001b[0;34m.\u001b[0m\u001b[0mbackward\u001b[0m\u001b[0;34m(\u001b[0m\u001b[0;34m)\u001b[0m\u001b[0;34m\u001b[0m\u001b[0;34m\u001b[0m\u001b[0m\n\u001b[0m\u001b[1;32m     37\u001b[0m             \u001b[0moptimizer\u001b[0m\u001b[0;34m.\u001b[0m\u001b[0mstep\u001b[0m\u001b[0;34m(\u001b[0m\u001b[0;34m)\u001b[0m\u001b[0;34m\u001b[0m\u001b[0;34m\u001b[0m\u001b[0m\n\u001b[1;32m     38\u001b[0m \u001b[0;34m\u001b[0m\u001b[0m\n",
      "\u001b[0;32m~/miniconda3/lib/python3.9/site-packages/torch/_tensor.py\u001b[0m in \u001b[0;36mbackward\u001b[0;34m(self, gradient, retain_graph, create_graph, inputs)\u001b[0m\n\u001b[1;32m    361\u001b[0m                 \u001b[0mcreate_graph\u001b[0m\u001b[0;34m=\u001b[0m\u001b[0mcreate_graph\u001b[0m\u001b[0;34m,\u001b[0m\u001b[0;34m\u001b[0m\u001b[0;34m\u001b[0m\u001b[0m\n\u001b[1;32m    362\u001b[0m                 inputs=inputs)\n\u001b[0;32m--> 363\u001b[0;31m         \u001b[0mtorch\u001b[0m\u001b[0;34m.\u001b[0m\u001b[0mautograd\u001b[0m\u001b[0;34m.\u001b[0m\u001b[0mbackward\u001b[0m\u001b[0;34m(\u001b[0m\u001b[0mself\u001b[0m\u001b[0;34m,\u001b[0m \u001b[0mgradient\u001b[0m\u001b[0;34m,\u001b[0m \u001b[0mretain_graph\u001b[0m\u001b[0;34m,\u001b[0m \u001b[0mcreate_graph\u001b[0m\u001b[0;34m,\u001b[0m \u001b[0minputs\u001b[0m\u001b[0;34m=\u001b[0m\u001b[0minputs\u001b[0m\u001b[0;34m)\u001b[0m\u001b[0;34m\u001b[0m\u001b[0;34m\u001b[0m\u001b[0m\n\u001b[0m\u001b[1;32m    364\u001b[0m \u001b[0;34m\u001b[0m\u001b[0m\n\u001b[1;32m    365\u001b[0m     \u001b[0;32mdef\u001b[0m \u001b[0mregister_hook\u001b[0m\u001b[0;34m(\u001b[0m\u001b[0mself\u001b[0m\u001b[0;34m,\u001b[0m \u001b[0mhook\u001b[0m\u001b[0;34m)\u001b[0m\u001b[0;34m:\u001b[0m\u001b[0;34m\u001b[0m\u001b[0;34m\u001b[0m\u001b[0m\n",
      "\u001b[0;32m~/miniconda3/lib/python3.9/site-packages/torch/autograd/__init__.py\u001b[0m in \u001b[0;36mbackward\u001b[0;34m(tensors, grad_tensors, retain_graph, create_graph, grad_variables, inputs)\u001b[0m\n\u001b[1;32m    171\u001b[0m     \u001b[0;31m# some Python versions print out the first line of a multi-line function\u001b[0m\u001b[0;34m\u001b[0m\u001b[0;34m\u001b[0m\u001b[0;34m\u001b[0m\u001b[0m\n\u001b[1;32m    172\u001b[0m     \u001b[0;31m# calls in the traceback and some print out the last line\u001b[0m\u001b[0;34m\u001b[0m\u001b[0;34m\u001b[0m\u001b[0;34m\u001b[0m\u001b[0m\n\u001b[0;32m--> 173\u001b[0;31m     Variable._execution_engine.run_backward(  # Calls into the C++ engine to run the backward pass\n\u001b[0m\u001b[1;32m    174\u001b[0m         \u001b[0mtensors\u001b[0m\u001b[0;34m,\u001b[0m \u001b[0mgrad_tensors_\u001b[0m\u001b[0;34m,\u001b[0m \u001b[0mretain_graph\u001b[0m\u001b[0;34m,\u001b[0m \u001b[0mcreate_graph\u001b[0m\u001b[0;34m,\u001b[0m \u001b[0minputs\u001b[0m\u001b[0;34m,\u001b[0m\u001b[0;34m\u001b[0m\u001b[0;34m\u001b[0m\u001b[0m\n\u001b[1;32m    175\u001b[0m         allow_unreachable=True, accumulate_grad=True)  # Calls into the C++ engine to run the backward pass\n",
      "\u001b[0;31mRuntimeError\u001b[0m: element 0 of tensors does not require grad and does not have a grad_fn"
     ]
    }
   ],
   "source": [
    "model = AE3b32ch16f().cuda()\n",
    "# model.load_state_dict(torch.load(base_path + 'ae/const_32x64_425'))\n",
    "trains, valss = random_split(ds, [int(len(ds) * 0.8), len(ds) - int(len(ds) * 0.8)])\n",
    "trainloader = DataLoader(trains, batch_size=64)\n",
    "valloader = DataLoader(valss, batch_size=32)\n",
    "optimizer = optim.Adam(model.parameters(),  lr = 0.01, betas=(0.9, 0.999))\n",
    "stop_crit = create_stop_crit(buff=10)\n",
    "\n",
    "KL_train(model, trainloader, valloader, optimizer, stop=stop_crit, start_e=0,\n",
    "      exp_name='full_32x16', folder='metrics-KL')"
   ]
  },
  {
   "cell_type": "code",
   "execution_count": null,
   "metadata": {},
   "outputs": [],
   "source": []
  },
  {
   "cell_type": "code",
   "execution_count": 95,
   "metadata": {},
   "outputs": [
    {
     "name": "stdout",
     "output_type": "stream",
     "text": [
      "CPU times: user 19.1 s, sys: 928 ms, total: 20 s\n",
      "Wall time: 13.2 s\n"
     ]
    }
   ],
   "source": [
    "%%time\n",
    "def get_bars(arr):\n",
    "    n = 250\n",
    "    ret = np.zeros(n)\n",
    "    \n",
    "    for i in arr:\n",
    "        ret[i] += 1\n",
    "\n",
    "    return ret\n",
    "\n",
    "loader  = DataLoader(ds, batch_size=64)\n",
    "X, y = next(iter(loader))\n",
    "Xvect = ((X.reshape(64, -1) + 0.7629) / (3.8590 + 0.7629) * 249).numpy().astype(int)\n",
    "ins = np.apply_along_axis(get_bars, 1, Xvect)\n",
    "\n",
    "X, y = next(iter(loader))\n",
    "Xvect = ((X.reshape(64, -1) + 0.7629) / (3.8590 + 0.7629) * 249).numpy().astype(int)\n",
    "outs = np.apply_along_axis(get_bars, 1, Xvect)"
   ]
  },
  {
   "cell_type": "markdown",
   "metadata": {},
   "source": [
    "# EMD (already trained)"
   ]
  },
  {
   "cell_type": "code",
   "execution_count": 12,
   "metadata": {},
   "outputs": [],
   "source": [
    "def EMD(loader, model, bars=500, vae=False):\n",
    "    def get_bars(arr):\n",
    "        hist, ind = np.histogram(arr, bins=bars)\n",
    "        return ind\n",
    "    \n",
    "    with torch.no_grad():\n",
    "        model.eval()\n",
    "        total_kl = 0\n",
    "        \n",
    "        for X, y in tqdm(loader):\n",
    "            X = X.cuda()\n",
    "            outs = model(X)\n",
    "            if vae:\n",
    "                outs = outs[-1]\n",
    "            \n",
    "            \n",
    "            Xvect = X.reshape(X.shape[0], -1)\n",
    "            bars_before = np.apply_along_axis(get_bars, 1, Xvect.cpu())\n",
    "            Xvect = outs.reshape(outs.shape[0], -1)\n",
    "            bars_after = np.apply_along_axis(get_bars, 1, Xvect.cpu())\n",
    "            \n",
    "            kl = F.l1_loss(torch.Tensor(bars_before).cuda(), torch.Tensor(bars_after).cuda())\n",
    "            total_kl += kl\n",
    "    \n",
    "    return total_kl.item()"
   ]
  },
  {
   "cell_type": "code",
   "execution_count": 23,
   "metadata": {},
   "outputs": [
    {
     "data": {
      "text/plain": [
       "(0.0, 1621.0754)"
      ]
     },
     "execution_count": 23,
     "metadata": {},
     "output_type": "execute_result"
    }
   ],
   "source": [
    "tensors.min(), tensors.max()"
   ]
  },
  {
   "cell_type": "markdown",
   "metadata": {},
   "source": [
    "### AE3b16_32ch32f"
   ]
  },
  {
   "cell_type": "code",
   "execution_count": 92,
   "metadata": {},
   "outputs": [
    {
     "data": {
      "application/vnd.jupyter.widget-view+json": {
       "model_id": "379cb5db5e5e47268da18f8161ebd499",
       "version_major": 2,
       "version_minor": 0
      },
      "text/plain": [
       "HBox(children=(HTML(value=''), FloatProgress(value=0.0, max=18.0), HTML(value='')))"
      ]
     },
     "metadata": {},
     "output_type": "display_data"
    },
    {
     "name": "stdout",
     "output_type": "stream",
     "text": [
      "\n"
     ]
    },
    {
     "data": {
      "text/plain": [
       "833.2418823242188"
      ]
     },
     "execution_count": 92,
     "metadata": {},
     "output_type": "execute_result"
    }
   ],
   "source": [
    "model = AE3b16_32ch32f().cuda()\n",
    "model.load_state_dict(torch.load(\"ae_exp1_norm_crit/full_16-32x32_crit_46\", map_location='cpu'))\n",
    "model.eval()\n",
    "\n",
    "# norm = transforms.Normalize(mean=267.57535, std=350.7396)\n",
    "ds = TensorDataset(torch.Tensor(tensors[:, None]), torch.Tensor(labels))\n",
    "loader = DataLoader(ds, batch_size=64)\n",
    "\n",
    "klscore = EMD(loader, model)\n",
    "klscore"
   ]
  },
  {
   "cell_type": "markdown",
   "metadata": {},
   "source": [
    "### AE3b32ch16f"
   ]
  },
  {
   "cell_type": "code",
   "execution_count": 91,
   "metadata": {},
   "outputs": [
    {
     "data": {
      "application/vnd.jupyter.widget-view+json": {
       "model_id": "8c29afdfa1e342f59a157b9401936899",
       "version_major": 2,
       "version_minor": 0
      },
      "text/plain": [
       "HBox(children=(HTML(value=''), FloatProgress(value=0.0, max=18.0), HTML(value='')))"
      ]
     },
     "metadata": {},
     "output_type": "display_data"
    },
    {
     "name": "stdout",
     "output_type": "stream",
     "text": [
      "\n"
     ]
    },
    {
     "data": {
      "text/plain": [
       "872.5048217773438"
      ]
     },
     "execution_count": 91,
     "metadata": {},
     "output_type": "execute_result"
    }
   ],
   "source": [
    "model = AE3b32ch16f().cuda()\n",
    "model.load_state_dict(torch.load(\"ae_exp2/full_32x16_crit_40\", map_location='cpu'))\n",
    "model.eval()\n",
    "\n",
    "# norm = transforms.Normalize(mean=267.57535, std=350.7396)\n",
    "ds = TensorDataset(torch.Tensor(tensors[:, None]), torch.Tensor(labels))\n",
    "loader = DataLoader(ds, batch_size=64)\n",
    "\n",
    "klscore = EMD(loader, model)\n",
    "klscore"
   ]
  },
  {
   "cell_type": "markdown",
   "metadata": {},
   "source": [
    "### VAE3b32ch16f"
   ]
  },
  {
   "cell_type": "code",
   "execution_count": 14,
   "metadata": {},
   "outputs": [
    {
     "data": {
      "application/vnd.jupyter.widget-view+json": {
       "model_id": "3f26ff3023954df780108ff24fab9d8c",
       "version_major": 2,
       "version_minor": 0
      },
      "text/plain": [
       "HBox(children=(HTML(value=''), FloatProgress(value=0.0, max=18.0), HTML(value='')))"
      ]
     },
     "metadata": {},
     "output_type": "display_data"
    },
    {
     "name": "stdout",
     "output_type": "stream",
     "text": [
      "\n"
     ]
    },
    {
     "data": {
      "text/plain": [
       "1269.5245361328125"
      ]
     },
     "execution_count": 14,
     "metadata": {},
     "output_type": "execute_result"
    }
   ],
   "source": [
    "model = VAE3b32ch16f().cuda()\n",
    "model.load_state_dict(torch.load(\"vae_exp1/vae3b32ch16f_crit_46\", map_location='cpu'))\n",
    "model.eval()\n",
    "\n",
    "# norm = transforms.Normalize(mean=267.57535, std=350.7396)\n",
    "ds = TensorDataset(torch.Tensor(tensors[:, None]), torch.Tensor(labels))\n",
    "loader = DataLoader(ds, batch_size=64)\n",
    "\n",
    "klscore = EMD(loader, model, vae=True)\n",
    "klscore"
   ]
  },
  {
   "cell_type": "markdown",
   "metadata": {},
   "source": [
    "### VAE3b32ch16f - normalized data"
   ]
  },
  {
   "cell_type": "code",
   "execution_count": 89,
   "metadata": {},
   "outputs": [
    {
     "data": {
      "application/vnd.jupyter.widget-view+json": {
       "model_id": "32e74fb635b647b6a7530147a17dbc6b",
       "version_major": 2,
       "version_minor": 0
      },
      "text/plain": [
       "HBox(children=(HTML(value=''), FloatProgress(value=0.0, max=18.0), HTML(value='')))"
      ]
     },
     "metadata": {},
     "output_type": "display_data"
    },
    {
     "name": "stdout",
     "output_type": "stream",
     "text": [
      "\n"
     ]
    },
    {
     "data": {
      "text/plain": [
       "3.6173341274261475"
      ]
     },
     "execution_count": 89,
     "metadata": {},
     "output_type": "execute_result"
    }
   ],
   "source": [
    "model = VAE3b32ch16f().cuda()\n",
    "model.load_state_dict(torch.load(\"vae_exp3/vae3b32ch16f_crit_32\", map_location='cpu'))\n",
    "model.eval()\n",
    "\n",
    "norm = transforms.Normalize(mean=267.57535, std=350.7396)\n",
    "ds = TensorDataset(norm(torch.Tensor(tensors[:, None])), torch.Tensor(labels))\n",
    "loader = DataLoader(ds, batch_size=64)\n",
    "\n",
    "klscore = EMD(loader, model, vae=True)\n",
    "klscore"
   ]
  },
  {
   "cell_type": "markdown",
   "metadata": {},
   "source": [
    "### VAE3b32ch16f with hyperparams"
   ]
  },
  {
   "cell_type": "code",
   "execution_count": 90,
   "metadata": {},
   "outputs": [
    {
     "data": {
      "application/vnd.jupyter.widget-view+json": {
       "model_id": "278d7c59394e4d9cb75fc421bae61603",
       "version_major": 2,
       "version_minor": 0
      },
      "text/plain": [
       "HBox(children=(HTML(value=''), FloatProgress(value=0.0, max=18.0), HTML(value='')))"
      ]
     },
     "metadata": {},
     "output_type": "display_data"
    },
    {
     "name": "stdout",
     "output_type": "stream",
     "text": [
      "\n"
     ]
    },
    {
     "data": {
      "text/plain": [
       "3.3306682109832764"
      ]
     },
     "execution_count": 90,
     "metadata": {},
     "output_type": "execute_result"
    }
   ],
   "source": [
    "model = VAE3b32ch16f().cuda()\n",
    "model.load_state_dict(torch.load(\"vae_exp4/vae3b32ch16f_crit_87\", map_location='cpu'))\n",
    "model.eval()\n",
    "\n",
    "norm = transforms.Normalize(mean=267.57535, std=350.7396)\n",
    "ds = TensorDataset(norm(torch.Tensor(tensors[:, None])), torch.Tensor(labels))\n",
    "loader = DataLoader(ds, batch_size=64)\n",
    "\n",
    "klscore = EMD(loader, model, vae=True)\n",
    "klscore"
   ]
  },
  {
   "cell_type": "markdown",
   "metadata": {},
   "source": [
    "### AE3b32ch16f - normalized data"
   ]
  },
  {
   "cell_type": "code",
   "execution_count": 97,
   "metadata": {},
   "outputs": [
    {
     "data": {
      "application/vnd.jupyter.widget-view+json": {
       "model_id": "f5afca7d32dd4a9fad760c79e09d0010",
       "version_major": 2,
       "version_minor": 0
      },
      "text/plain": [
       "HBox(children=(HTML(value=''), FloatProgress(value=0.0, max=18.0), HTML(value='')))"
      ]
     },
     "metadata": {},
     "output_type": "display_data"
    },
    {
     "name": "stdout",
     "output_type": "stream",
     "text": [
      "\n"
     ]
    },
    {
     "data": {
      "text/plain": [
       "4.362974643707275"
      ]
     },
     "execution_count": 97,
     "metadata": {},
     "output_type": "execute_result"
    }
   ],
   "source": [
    "model = AE3b32ch16f().cuda()\n",
    "model.load_state_dict(torch.load(\"ae_exp3.5norm/AE3b32ch32f_crit_41\", map_location='cpu'))\n",
    "model.eval()\n",
    "\n",
    "norm = transforms.Normalize(mean=267.57535, std=350.7396)\n",
    "ds = TensorDataset(norm(torch.Tensor(tensors[:, None])), torch.Tensor(labels))\n",
    "loader = DataLoader(ds, batch_size=64)\n",
    "\n",
    "klscore = EMD(loader, model)\n",
    "klscore"
   ]
  },
  {
   "cell_type": "markdown",
   "metadata": {},
   "source": [
    "# Brain Volume"
   ]
  },
  {
   "cell_type": "markdown",
   "metadata": {},
   "source": [
    "### Baseline (original)"
   ]
  },
  {
   "cell_type": "code",
   "execution_count": 64,
   "metadata": {},
   "outputs": [
    {
     "data": {
      "text/html": [
       "<div>\n",
       "<style scoped>\n",
       "    .dataframe tbody tr th:only-of-type {\n",
       "        vertical-align: middle;\n",
       "    }\n",
       "\n",
       "    .dataframe tbody tr th {\n",
       "        vertical-align: top;\n",
       "    }\n",
       "\n",
       "    .dataframe thead th {\n",
       "        text-align: right;\n",
       "    }\n",
       "</style>\n",
       "<table border=\"1\" class=\"dataframe\">\n",
       "  <thead>\n",
       "    <tr style=\"text-align: right;\">\n",
       "      <th></th>\n",
       "      <th>Subject</th>\n",
       "      <th>Gender</th>\n",
       "      <th>Release</th>\n",
       "      <th>FS_InterCranial_Vol</th>\n",
       "      <th>FS_BrainSeg_Vol</th>\n",
       "      <th>FS_BrainSeg_Vol_No_Vent</th>\n",
       "      <th>FS_BrainSeg_Vol_No_Vent_Surf</th>\n",
       "      <th>FS_LCort_GM_Vol</th>\n",
       "      <th>FS_RCort_GM_Vol</th>\n",
       "      <th>FS_TotCort_GM_Vol</th>\n",
       "      <th>...</th>\n",
       "      <th>FS_R_Rostralanteriorcingulate_CurvInd</th>\n",
       "      <th>FS_R_Rostralmiddlefrontal_CurvInd</th>\n",
       "      <th>FS_R_Superiorfrontal_CurvInd</th>\n",
       "      <th>FS_R_Superiorparietal_CurvInd</th>\n",
       "      <th>FS_R_Superiortemporal_CurvInd</th>\n",
       "      <th>FS_R_Supramarginal_CurvInd</th>\n",
       "      <th>FS_R_Frontalpole_CurvInd</th>\n",
       "      <th>FS_R_Temporalpole_CurvInd</th>\n",
       "      <th>FS_R_Transversetemporal_CurvInd</th>\n",
       "      <th>FS_R_Insula_CurvInd</th>\n",
       "    </tr>\n",
       "  </thead>\n",
       "  <tbody>\n",
       "    <tr>\n",
       "      <th>0</th>\n",
       "      <td>100206</td>\n",
       "      <td>M</td>\n",
       "      <td>S900</td>\n",
       "      <td>1.864518e+06</td>\n",
       "      <td>1406924.0</td>\n",
       "      <td>1389007.0</td>\n",
       "      <td>1.386836e+06</td>\n",
       "      <td>304488</td>\n",
       "      <td>305634</td>\n",
       "      <td>610122</td>\n",
       "      <td>...</td>\n",
       "      <td>5.6</td>\n",
       "      <td>34.6</td>\n",
       "      <td>40.1</td>\n",
       "      <td>23.3</td>\n",
       "      <td>15.6</td>\n",
       "      <td>11.9</td>\n",
       "      <td>2.9</td>\n",
       "      <td>3.8</td>\n",
       "      <td>2.8</td>\n",
       "      <td>37.5</td>\n",
       "    </tr>\n",
       "    <tr>\n",
       "      <th>1</th>\n",
       "      <td>100307</td>\n",
       "      <td>F</td>\n",
       "      <td>Q1</td>\n",
       "      <td>1.512540e+06</td>\n",
       "      <td>1109710.0</td>\n",
       "      <td>1098854.0</td>\n",
       "      <td>1.097122e+06</td>\n",
       "      <td>240030</td>\n",
       "      <td>243207</td>\n",
       "      <td>483238</td>\n",
       "      <td>...</td>\n",
       "      <td>3.3</td>\n",
       "      <td>29.9</td>\n",
       "      <td>48.8</td>\n",
       "      <td>21.6</td>\n",
       "      <td>18.6</td>\n",
       "      <td>15.0</td>\n",
       "      <td>2.9</td>\n",
       "      <td>5.8</td>\n",
       "      <td>2.0</td>\n",
       "      <td>30.2</td>\n",
       "    </tr>\n",
       "    <tr>\n",
       "      <th>2</th>\n",
       "      <td>100408</td>\n",
       "      <td>M</td>\n",
       "      <td>Q3</td>\n",
       "      <td>1.684117e+06</td>\n",
       "      <td>1280171.0</td>\n",
       "      <td>1260943.0</td>\n",
       "      <td>1.259250e+06</td>\n",
       "      <td>260695</td>\n",
       "      <td>265243</td>\n",
       "      <td>525938</td>\n",
       "      <td>...</td>\n",
       "      <td>3.3</td>\n",
       "      <td>25.2</td>\n",
       "      <td>27.5</td>\n",
       "      <td>15.2</td>\n",
       "      <td>13.9</td>\n",
       "      <td>12.3</td>\n",
       "      <td>1.8</td>\n",
       "      <td>7.8</td>\n",
       "      <td>1.9</td>\n",
       "      <td>25.1</td>\n",
       "    </tr>\n",
       "  </tbody>\n",
       "</table>\n",
       "<p>3 rows × 938 columns</p>\n",
       "</div>"
      ],
      "text/plain": [
       "   Subject Gender Release  FS_InterCranial_Vol  FS_BrainSeg_Vol  \\\n",
       "0   100206      M    S900         1.864518e+06        1406924.0   \n",
       "1   100307      F      Q1         1.512540e+06        1109710.0   \n",
       "2   100408      M      Q3         1.684117e+06        1280171.0   \n",
       "\n",
       "   FS_BrainSeg_Vol_No_Vent  FS_BrainSeg_Vol_No_Vent_Surf  FS_LCort_GM_Vol  \\\n",
       "0                1389007.0                  1.386836e+06           304488   \n",
       "1                1098854.0                  1.097122e+06           240030   \n",
       "2                1260943.0                  1.259250e+06           260695   \n",
       "\n",
       "   FS_RCort_GM_Vol  FS_TotCort_GM_Vol  ...  \\\n",
       "0           305634             610122  ...   \n",
       "1           243207             483238  ...   \n",
       "2           265243             525938  ...   \n",
       "\n",
       "   FS_R_Rostralanteriorcingulate_CurvInd  FS_R_Rostralmiddlefrontal_CurvInd  \\\n",
       "0                                    5.6                               34.6   \n",
       "1                                    3.3                               29.9   \n",
       "2                                    3.3                               25.2   \n",
       "\n",
       "   FS_R_Superiorfrontal_CurvInd  FS_R_Superiorparietal_CurvInd  \\\n",
       "0                          40.1                           23.3   \n",
       "1                          48.8                           21.6   \n",
       "2                          27.5                           15.2   \n",
       "\n",
       "   FS_R_Superiortemporal_CurvInd  FS_R_Supramarginal_CurvInd  \\\n",
       "0                           15.6                        11.9   \n",
       "1                           18.6                        15.0   \n",
       "2                           13.9                        12.3   \n",
       "\n",
       "   FS_R_Frontalpole_CurvInd  FS_R_Temporalpole_CurvInd  \\\n",
       "0                       2.9                        3.8   \n",
       "1                       2.9                        5.8   \n",
       "2                       1.8                        7.8   \n",
       "\n",
       "   FS_R_Transversetemporal_CurvInd  FS_R_Insula_CurvInd  \n",
       "0                              2.8                 37.5  \n",
       "1                              2.0                 30.2  \n",
       "2                              1.9                 25.1  \n",
       "\n",
       "[3 rows x 938 columns]"
      ]
     },
     "execution_count": 64,
     "metadata": {},
     "output_type": "execute_result"
    }
   ],
   "source": [
    "df_feats = pd.read_csv('data/features.csv')\n",
    "df_feats.head(3)"
   ]
  },
  {
   "cell_type": "code",
   "execution_count": 93,
   "metadata": {},
   "outputs": [],
   "source": [
    "male_vols = df_feats[df_feats.Gender == 'M'].FS_BrainSeg_Vol.to_numpy()\n",
    "fem_vols = df_feats[df_feats.Gender == 'F'].FS_BrainSeg_Vol.to_numpy()\n",
    "vols0 = df_feats.FS_BrainSeg_Vol.to_numpy()"
   ]
  },
  {
   "cell_type": "code",
   "execution_count": 89,
   "metadata": {},
   "outputs": [
    {
     "data": {
      "image/png": "[encoded data removed]",
      "text/plain": [
       "<Figure size 864x576 with 1 Axes>"
      ]
     },
     "metadata": {
      "needs_background": "light"
     },
     "output_type": "display_data"
    }
   ],
   "source": [
    "plt.figure(figsize=(12,8))\n",
    "kwargs = dict(alpha=0.7, bins=100)\n",
    "plt.hist(male_vols, color='b', label='male', **kwargs)\n",
    "plt.hist(fem_vols, color='r', label='female', **kwargs)\n",
    "plt.legend();"
   ]
  },
  {
   "cell_type": "markdown",
   "metadata": {},
   "source": [
    "### VAE3b32ch16f - normalized data"
   ]
  },
  {
   "cell_type": "code",
   "execution_count": 59,
   "metadata": {},
   "outputs": [],
   "source": [
    "def vol_distrib(model, loader, vae=False, thresh=0.01):\n",
    "    with torch.no_grad():\n",
    "        restruct = None\n",
    "        labels = []\n",
    "        model.eval()\n",
    "        \n",
    "        for i, (x, y) in enumerate(loader):\n",
    "            x = model(x.cuda())\n",
    "            if vae:\n",
    "                x = x[-1]\n",
    "                \n",
    "            if i == 0:\n",
    "                restruct = x.cpu().numpy()\n",
    "                labels = y.numpy()\n",
    "            else:\n",
    "                restruct = np.vstack([restruct, x.cpu().numpy()])\n",
    "                labels = np.concatenate([labels, y])\n",
    "                \n",
    "                \n",
    "    vols = np.sum(restruct.reshape((restruct.shape[0], -1)) > thresh, axis=1)\n",
    "    df = pd.DataFrame({'sex': labels, 'vols': vols})\n",
    "    \n",
    "    male_vols = df[df.sex == 1].vols.to_numpy()\n",
    "    fem_vols = df[df.sex == 0].vols.to_numpy()\n",
    "    \n",
    "    plt.figure(figsize=(12,8))\n",
    "    kwargs = dict(alpha=0.7, bins=100)\n",
    "    plt.hist(male_vols, color='b', label='male', **kwargs)\n",
    "    plt.hist(fem_vols, color='r', label='female', **kwargs)\n",
    "    plt.legend();\n",
    "    return vols"
   ]
  },
  {
   "cell_type": "code",
   "execution_count": 56,
   "metadata": {},
   "outputs": [
    {
     "data": {
      "text/plain": [
       "tensor(-0.7629)"
      ]
     },
     "execution_count": 56,
     "metadata": {},
     "output_type": "execute_result"
    }
   ],
   "source": [
    "norm = transforms.Normalize(mean=267.57535, std=350.7396)\n",
    "ds = TensorDataset(norm(torch.Tensor(tensors[:, None])), torch.Tensor(labels))\n",
    "loader = DataLoader(ds, batch_size=64)\n",
    "ds.tensors[0].min()"
   ]
  },
  {
   "cell_type": "code",
   "execution_count": 90,
   "metadata": {},
   "outputs": [
    {
     "data": {
      "image/png": "[encoded data removed]",
      "text/plain": [
       "<Figure size 864x576 with 1 Axes>"
      ]
     },
     "metadata": {
      "needs_background": "light"
     },
     "output_type": "display_data"
    }
   ],
   "source": [
    "model = VAE3b32ch16f().cuda()\n",
    "model.load_state_dict(torch.load(\"saves/vae_exp3/vae3b32ch16f_crit_32\", map_location='cpu'))\n",
    "vols1 = vol_distrib(model, loader, vae=True)"
   ]
  },
  {
   "cell_type": "markdown",
   "metadata": {},
   "source": [
    "### VAE3b32ch16f with hyperparams"
   ]
  },
  {
   "cell_type": "code",
   "execution_count": 91,
   "metadata": {},
   "outputs": [
    {
     "data": {
      "image/png": "[encoded data removed]",
      "text/plain": [
       "<Figure size 864x576 with 1 Axes>"
      ]
     },
     "metadata": {
      "needs_background": "light"
     },
     "output_type": "display_data"
    }
   ],
   "source": [
    "model = VAE3b32ch16f().cuda()\n",
    "model.load_state_dict(torch.load(\"saves/vae_exp4/vae3b32ch16f_crit_87\", map_location='cpu'))\n",
    "vols2 = vol_distrib(model, loader, vae=True)"
   ]
  },
  {
   "cell_type": "markdown",
   "metadata": {},
   "source": [
    "### AE3b32ch16f - normalized data"
   ]
  },
  {
   "cell_type": "code",
   "execution_count": 92,
   "metadata": {},
   "outputs": [
    {
     "data": {
      "image/png": "[encoded data removed]",
      "text/plain": [
       "<Figure size 864x576 with 1 Axes>"
      ]
     },
     "metadata": {
      "needs_background": "light"
     },
     "output_type": "display_data"
    }
   ],
   "source": [
    "model = AE3b32ch16f().cuda()\n",
    "model.load_state_dict(torch.load(\"saves/ae_exp3.5norm/AE3b32ch32f_crit_41\", map_location='cpu'))\n",
    "vols3 = vol_distrib(model, loader)"
   ]
  },
  {
   "cell_type": "code",
   "execution_count": null,
   "metadata": {},
   "outputs": [],
   "source": []
  },
  {
   "cell_type": "code",
   "execution_count": null,
   "metadata": {},
   "outputs": [],
   "source": []
  },
  {
   "cell_type": "code",
   "execution_count": 94,
   "metadata": {},
   "outputs": [],
   "source": [
    "vols0tr = MinMaxScaler(feature_range=(0, 1)).fit_transform(vols0.reshape(-1, 1))\n",
    "vols2tr = MinMaxScaler(feature_range=(0, 1)).fit_transform(vols2.reshape(-1, 1))\n",
    "vols3tr = MinMaxScaler(feature_range=(0, 1)).fit_transform(vols3.reshape(-1, 1))"
   ]
  },
  {
   "cell_type": "code",
   "execution_count": 95,
   "metadata": {},
   "outputs": [],
   "source": [
    "vols0tr = vols0tr.reshape(-1)\n",
    "vols2tr = vols2tr.reshape(-1)\n",
    "vols3tr = vols3tr.reshape(-1)"
   ]
  },
  {
   "cell_type": "code",
   "execution_count": 96,
   "metadata": {},
   "outputs": [
    {
     "name": "stdout",
     "output_type": "stream",
     "text": [
      "baseline - vae (0.5 acc):     9.702971384580057e-93\n",
      "baseline - ae (0.9 acc):      9.63530361604037e-106\n",
      "ae (0.9 acc) - vae (0.5 acc): 0.26954235136068877\n"
     ]
    }
   ],
   "source": [
    "print(\"baseline - vae (0.5 acc):    \", scipy.stats.ttest_ind(vols0tr, vols2tr, equal_var=False).pvalue)\n",
    "print(\"baseline - ae (0.9 acc):     \", scipy.stats.ttest_ind(vols0tr, vols3tr, equal_var=False).pvalue)\n",
    "print(\"ae (0.9 acc) - vae (0.5 acc):\", scipy.stats.ttest_ind(vols2tr, vols3tr, equal_var=False).pvalue)"
   ]
  },
  {
   "cell_type": "code",
   "execution_count": null,
   "metadata": {},
   "outputs": [],
   "source": []
  }
 ],
 "metadata": {
  "kernelspec": {
   "display_name": "Python 3 (ipykernel)",
   "language": "python",
   "name": "python3"
  },
  "language_info": {
   "codemirror_mode": {
    "name": "ipython",
    "version": 3
   },
   "file_extension": ".py",
   "mimetype": "text/x-python",
   "name": "python",
   "nbconvert_exporter": "python",
   "pygments_lexer": "ipython3",
   "version": "3.9.1"
  }
 },
 "nbformat": 4,
 "nbformat_minor": 4
}
